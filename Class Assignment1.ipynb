{
 "cells": [
  {
   "cell_type": "code",
   "execution_count": 9,
   "id": "fe00193c-2a96-4b18-9cdd-60c1e26e3a45",
   "metadata": {},
   "outputs": [],
   "source": [
    "from ClassAssignment1 import MulFunc"
   ]
  },
  {
   "cell_type": "code",
   "execution_count": 11,
   "id": "29c335b0-2887-4f93-90f6-5a9f4334e7ba",
   "metadata": {},
   "outputs": [
    {
     "name": "stdin",
     "output_type": "stream",
     "text": [
      "Height: 2\n",
      "Breadth: 3\n"
     ]
    },
    {
     "name": "stdout",
     "output_type": "stream",
     "text": [
      "Area formula=(Height*Breadth)/2\n",
      "Area of triangle: 3.0\n"
     ]
    },
    {
     "name": "stdin",
     "output_type": "stream",
     "text": [
      "Height1: 4\n",
      "Height2: 5\n",
      "Breadth: 4\n"
     ]
    },
    {
     "name": "stdout",
     "output_type": "stream",
     "text": [
      "Perimeter formula=Height1+Height1+Breadth\n",
      "Perimeter of triangle: 13\n"
     ]
    }
   ],
   "source": [
    "MulFunc.Triangle()"
   ]
  },
  {
   "cell_type": "code",
   "execution_count": 13,
   "id": "d7d355d6-04c2-4b93-b7ec-be423b834fbe",
   "metadata": {},
   "outputs": [
    {
     "name": "stdin",
     "output_type": "stream",
     "text": [
      "Your Age: 23\n",
      "Your Gender: Male\n"
     ]
    },
    {
     "name": "stdout",
     "output_type": "stream",
     "text": [
      "Eligible\n"
     ]
    }
   ],
   "source": [
    "MulFunc.Eligible()"
   ]
  },
  {
   "cell_type": "code",
   "execution_count": 17,
   "id": "bdeb5647-e3d0-4bff-afd1-964ddd1707e4",
   "metadata": {},
   "outputs": [
    {
     "name": "stdin",
     "output_type": "stream",
     "text": [
      "Enter the number: 3\n"
     ]
    },
    {
     "name": "stdout",
     "output_type": "stream",
     "text": [
      "3 is Odd number\n"
     ]
    }
   ],
   "source": [
    "Odd=MulFunc.OddEven()\n",
    "print(Odd)"
   ]
  },
  {
   "cell_type": "code",
   "execution_count": 19,
   "id": "58b48ada-a2ea-4e1d-a42b-8be6831178c5",
   "metadata": {},
   "outputs": [
    {
     "name": "stdout",
     "output_type": "stream",
     "text": [
      "Subfields in AI are:\n",
      "Machine Learning\n",
      "Natural Language Processing\n",
      "Time Series Analysis\n",
      "Deep Learning\n"
     ]
    }
   ],
   "source": [
    "MulFunc.SubfoldersInAI()"
   ]
  },
  {
   "cell_type": "code",
   "execution_count": 21,
   "id": "a667eda3-f0a9-4054-81fb-7f8b8f2078cb",
   "metadata": {},
   "outputs": [
    {
     "name": "stdin",
     "output_type": "stream",
     "text": [
      "Subject1: 45\n",
      "Subject2: 78\n",
      "Subject3: 90\n",
      "Subject4: 80\n",
      "Subject5: 60\n"
     ]
    },
    {
     "name": "stdout",
     "output_type": "stream",
     "text": [
      "Total: 353\n",
      "Percentage: 70.6\n"
     ]
    }
   ],
   "source": [
    "MulFunc.Calculate_Total_Percent()"
   ]
  },
  {
   "cell_type": "code",
   "execution_count": null,
   "id": "dfd41f2e-4ca0-4d36-8b5c-b3a30e8b2f75",
   "metadata": {},
   "outputs": [],
   "source": []
  }
 ],
 "metadata": {
  "kernelspec": {
   "display_name": "Python [conda env:base] *",
   "language": "python",
   "name": "conda-base-py"
  },
  "language_info": {
   "codemirror_mode": {
    "name": "ipython",
    "version": 3
   },
   "file_extension": ".py",
   "mimetype": "text/x-python",
   "name": "python",
   "nbconvert_exporter": "python",
   "pygments_lexer": "ipython3",
   "version": "3.12.7"
  }
 },
 "nbformat": 4,
 "nbformat_minor": 5
}
